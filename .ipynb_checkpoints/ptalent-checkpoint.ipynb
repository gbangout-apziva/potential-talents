{
 "cells": [
  {
   "cell_type": "markdown",
   "id": "7b067258",
   "metadata": {},
   "source": [
    "# Seeking Human Resources\n",
    "We want to predict how well candidates are fit for certains roles based on their available information:\n",
    "* EDA\n",
    "* Modelling\n",
    "    * Rank canditates based on some roles key words\n",
    "    * Re-rank candidates when we change the roles key words"
   ]
  },
  {
   "cell_type": "markdown",
   "id": "f0b1bc3a",
   "metadata": {},
   "source": [
    "## EDA"
   ]
  },
  {
   "cell_type": "markdown",
   "id": "fd4243b7",
   "metadata": {},
   "source": [
    "### LOAD DATA"
   ]
  },
  {
   "cell_type": "code",
   "execution_count": 59,
   "id": "9c961d91",
   "metadata": {},
   "outputs": [],
   "source": [
    "import pandas as pd\n",
    "import numpy as np\n",
    "import matplotlib as plt\n",
    "from collections import Counter\n",
    "import spacy\n",
    "nlp = spacy.load(\"en_core_web_lg\")"
   ]
  },
  {
   "cell_type": "code",
   "execution_count": 5,
   "id": "f445362d",
   "metadata": {},
   "outputs": [
    {
     "data": {
      "text/html": [
       "<div>\n",
       "<style scoped>\n",
       "    .dataframe tbody tr th:only-of-type {\n",
       "        vertical-align: middle;\n",
       "    }\n",
       "\n",
       "    .dataframe tbody tr th {\n",
       "        vertical-align: top;\n",
       "    }\n",
       "\n",
       "    .dataframe thead th {\n",
       "        text-align: right;\n",
       "    }\n",
       "</style>\n",
       "<table border=\"1\" class=\"dataframe\">\n",
       "  <thead>\n",
       "    <tr style=\"text-align: right;\">\n",
       "      <th></th>\n",
       "      <th>job_title</th>\n",
       "      <th>location</th>\n",
       "      <th>connection</th>\n",
       "      <th>fit</th>\n",
       "    </tr>\n",
       "    <tr>\n",
       "      <th>id</th>\n",
       "      <th></th>\n",
       "      <th></th>\n",
       "      <th></th>\n",
       "      <th></th>\n",
       "    </tr>\n",
       "  </thead>\n",
       "  <tbody>\n",
       "    <tr>\n",
       "      <th>1</th>\n",
       "      <td>2019 C.T. Bauer College of Business Graduate (...</td>\n",
       "      <td>Houston, Texas</td>\n",
       "      <td>85</td>\n",
       "      <td>NaN</td>\n",
       "    </tr>\n",
       "    <tr>\n",
       "      <th>2</th>\n",
       "      <td>Native English Teacher at EPIK (English Progra...</td>\n",
       "      <td>Kanada</td>\n",
       "      <td>500+</td>\n",
       "      <td>NaN</td>\n",
       "    </tr>\n",
       "    <tr>\n",
       "      <th>3</th>\n",
       "      <td>Aspiring Human Resources Professional</td>\n",
       "      <td>Raleigh-Durham, North Carolina Area</td>\n",
       "      <td>44</td>\n",
       "      <td>NaN</td>\n",
       "    </tr>\n",
       "    <tr>\n",
       "      <th>4</th>\n",
       "      <td>People Development Coordinator at Ryan</td>\n",
       "      <td>Denton, Texas</td>\n",
       "      <td>500+</td>\n",
       "      <td>NaN</td>\n",
       "    </tr>\n",
       "    <tr>\n",
       "      <th>5</th>\n",
       "      <td>Advisory Board Member at Celal Bayar University</td>\n",
       "      <td>İzmir, Türkiye</td>\n",
       "      <td>500+</td>\n",
       "      <td>NaN</td>\n",
       "    </tr>\n",
       "  </tbody>\n",
       "</table>\n",
       "</div>"
      ],
      "text/plain": [
       "                                            job_title  \\\n",
       "id                                                      \n",
       "1   2019 C.T. Bauer College of Business Graduate (...   \n",
       "2   Native English Teacher at EPIK (English Progra...   \n",
       "3               Aspiring Human Resources Professional   \n",
       "4              People Development Coordinator at Ryan   \n",
       "5     Advisory Board Member at Celal Bayar University   \n",
       "\n",
       "                               location connection  fit  \n",
       "id                                                       \n",
       "1                        Houston, Texas         85  NaN  \n",
       "2                                Kanada      500+   NaN  \n",
       "3   Raleigh-Durham, North Carolina Area         44  NaN  \n",
       "4                         Denton, Texas      500+   NaN  \n",
       "5                        İzmir, Türkiye      500+   NaN  "
      ]
     },
     "execution_count": 5,
     "metadata": {},
     "output_type": "execute_result"
    }
   ],
   "source": [
    "df=pd.read_csv(\"potential-talents.csv\")\n",
    "df=df.set_index('id')\n",
    "df.head()"
   ]
  },
  {
   "cell_type": "code",
   "execution_count": 6,
   "id": "a33db80f",
   "metadata": {},
   "outputs": [
    {
     "name": "stdout",
     "output_type": "stream",
     "text": [
      "<class 'pandas.core.frame.DataFrame'>\n",
      "Int64Index: 104 entries, 1 to 104\n",
      "Data columns (total 4 columns):\n",
      " #   Column      Non-Null Count  Dtype  \n",
      "---  ------      --------------  -----  \n",
      " 0   job_title   104 non-null    object \n",
      " 1   location    104 non-null    object \n",
      " 2   connection  104 non-null    object \n",
      " 3   fit         0 non-null      float64\n",
      "dtypes: float64(1), object(3)\n",
      "memory usage: 4.1+ KB\n"
     ]
    }
   ],
   "source": [
    "df.info()"
   ]
  },
  {
   "cell_type": "code",
   "execution_count": 11,
   "id": "c3c7436a",
   "metadata": {},
   "outputs": [
    {
     "name": "stdout",
     "output_type": "stream",
     "text": [
      "51\n"
     ]
    }
   ],
   "source": [
    "#check data duplicates\n",
    "print(df.duplicated().sum())"
   ]
  },
  {
   "cell_type": "code",
   "execution_count": 15,
   "id": "e5b0aef8",
   "metadata": {},
   "outputs": [
    {
     "data": {
      "text/plain": [
       "(53, 4)"
      ]
     },
     "execution_count": 15,
     "metadata": {},
     "output_type": "execute_result"
    }
   ],
   "source": [
    "#remove duplicates\n",
    "df.drop_duplicates(inplace=True)\n",
    "df.shape"
   ]
  },
  {
   "cell_type": "code",
   "execution_count": 16,
   "id": "7f1f5ba5",
   "metadata": {},
   "outputs": [
    {
     "data": {
      "text/plain": [
       "(53, 3)"
      ]
     },
     "execution_count": 16,
     "metadata": {},
     "output_type": "execute_result"
    }
   ],
   "source": [
    "#dropping fit col\n",
    "df.drop('fit', axis=1,inplace=True)\n",
    "df.shape"
   ]
  },
  {
   "cell_type": "markdown",
   "id": "9a754fae",
   "metadata": {},
   "source": [
    "About the data:\n",
    "* data consist of 3 columns: job-title-location-connection\n",
    "* job-title gives the available information of a paticular job"
   ]
  },
  {
   "cell_type": "code",
   "execution_count": 24,
   "id": "7daad4dc",
   "metadata": {},
   "outputs": [
    {
     "data": {
      "text/plain": [
       "Aspiring Human Resources Professional                                                                                    2\n",
       "2019 C.T. Bauer College of Business Graduate (Magna Cum Laude) and aspiring Human Resources professional                 1\n",
       "Lead Official at Western Illinois University                                                                             1\n",
       "Senior Human Resources Business Partner at Heil Environmental                                                            1\n",
       "Aspiring Human Resources Professional | An energetic and Team-Focused Leader                                             1\n",
       "HR Manager at Endemol Shine North America                                                                                1\n",
       "Human Resources professional for the world leader in GIS software                                                        1\n",
       "RRP Brand Portfolio Executive at JTI (Japan Tobacco International)                                                       1\n",
       "Information Systems Specialist and Programmer with a love for data and organization.                                     1\n",
       "Bachelor of Science in Biology from Victoria University of Wellington                                                    1\n",
       "Human Resources Management Major                                                                                         1\n",
       "Director Human Resources  at EY                                                                                          1\n",
       "Undergraduate Research Assistant at Styczynski Lab                                                                       1\n",
       "Seeking employment opportunities within Customer Service or Patient Care                                                 1\n",
       "Liberal Arts Major. Aspiring Human Resources Analyst.                                                                    1\n",
       "Admissions Representative at Community medical center long beach                                                         1\n",
       "Seeking Human  Resources Opportunities. Open to travel and relocation.                                                   1\n",
       "Student at Westfield State University                                                                                    1\n",
       "Student at Indiana University Kokomo - Business Management - \\nRetail Manager at Delphi Hardware and Paint               1\n",
       "Student                                                                                                                  1\n",
       "Seeking Human Resources Position                                                                                         1\n",
       "Aspiring Human Resources Manager | Graduating May 2020 | Seeking an Entry-Level Human Resources Position in St. Louis    1\n",
       "Human Resources Generalist at Loparex                                                                                    1\n",
       "Business Intelligence and Analytics at Travelers                                                                         1\n",
       "Always set them up for Success                                                                                           1\n",
       "Junior MES Engineer| Information Systems                                                                                 1\n",
       "Human Resources Generalist at Schwan's                                                                                   1\n",
       "Native English Teacher at EPIK (English Program in Korea)                                                                1\n",
       "Seeking Human Resources Opportunities                                                                                    1\n",
       "People Development Coordinator at Ryan                                                                                   1\n",
       "Advisory Board Member at Celal Bayar University                                                                          1\n",
       "Aspiring Human Resources Specialist                                                                                      1\n",
       "Student at Humber College and Aspiring Human Resources Generalist                                                        1\n",
       "HR Senior Specialist                                                                                                     1\n",
       "Seeking Human Resources HRIS and Generalist Positions                                                                    1\n",
       "Student at Chapman University                                                                                            1\n",
       "SVP, CHRO, Marketing & Communications, CSR Officer | ENGIE | Houston | The Woodlands | Energy | GPHR | SPHR              1\n",
       "Human Resources Coordinator at InterContinental Buckhead Atlanta                                                         1\n",
       "Aspiring Human Resources Management student seeking an internship                                                        1\n",
       "Experienced Retail Manager and aspiring Human Resources Professional                                                     1\n",
       "Human Resources|\\nConflict Management|\\nPolicies & Procedures|Talent Management|Benefits & Compensation                  1\n",
       "Human Resources, Staffing and Recruiting Professional                                                                    1\n",
       "Human Resources Specialist at Luxottica                                                                                  1\n",
       "Director of Human Resources North America, Groupe Beneteau                                                               1\n",
       "Retired Army National Guard Recruiter, office manager,  seeking a position in Human Resources.                           1\n",
       "Human Resources Generalist at ScottMadden, Inc.                                                                          1\n",
       "Business Management Major and Aspiring Human Resources Manager                                                           1\n",
       "Aspiring Human Resources Manager, seeking internship in Human Resources.                                                 1\n",
       "Human Resources Professional                                                                                             1\n",
       "Nortia Staffing is seeking Human Resources, Payroll & Administrative Professionals!!  (408) 709-2621                     1\n",
       "Aspiring Human Resources Professional | Passionate about helping to create an inclusive and engaging work environment    1\n",
       "Director Of Administration at Excellence Logging                                                                         1\n",
       "Name: job_title, dtype: int64"
      ]
     },
     "execution_count": 24,
     "metadata": {},
     "output_type": "execute_result"
    }
   ],
   "source": [
    "df.job_title.value_counts()"
   ]
  },
  {
   "cell_type": "markdown",
   "id": "178bd446",
   "metadata": {},
   "source": [
    "Text preprocessing"
   ]
  },
  {
   "cell_type": "code",
   "execution_count": 26,
   "id": "b8a5a938",
   "metadata": {},
   "outputs": [],
   "source": [
    "#import spacy and load the language model downloaded\n",
    "\n",
    "import spacy\n",
    "nlp = spacy.load(\"en_core_web_lg\")"
   ]
  },
  {
   "cell_type": "code",
   "execution_count": 47,
   "id": "3d8a30ce",
   "metadata": {},
   "outputs": [],
   "source": [
    "#use this utility function to preprocess the text\n",
    "#1. Remove the stop words\n",
    "#2. Convert to base form using lemmatisation with lower case\n",
    "\n",
    "def preprocess(text):\n",
    "    doc = nlp(text)\n",
    "    filtered_tokens = []\n",
    "    for token in doc:\n",
    "        if token.is_stop or token.is_punct or token.is_digit:\n",
    "            continue\n",
    "        filtered_tokens.append(token.lemma_.lower())\n",
    "    return ' '.join(filtered_tokens)"
   ]
  },
  {
   "cell_type": "code",
   "execution_count": 49,
   "id": "f0db8966",
   "metadata": {},
   "outputs": [
    {
     "data": {
      "text/html": [
       "<div>\n",
       "<style scoped>\n",
       "    .dataframe tbody tr th:only-of-type {\n",
       "        vertical-align: middle;\n",
       "    }\n",
       "\n",
       "    .dataframe tbody tr th {\n",
       "        vertical-align: top;\n",
       "    }\n",
       "\n",
       "    .dataframe thead th {\n",
       "        text-align: right;\n",
       "    }\n",
       "</style>\n",
       "<table border=\"1\" class=\"dataframe\">\n",
       "  <thead>\n",
       "    <tr style=\"text-align: right;\">\n",
       "      <th></th>\n",
       "      <th>job_title</th>\n",
       "      <th>location</th>\n",
       "      <th>connection</th>\n",
       "      <th>preprocessed_job_title</th>\n",
       "      <th>preprocessed_location</th>\n",
       "    </tr>\n",
       "    <tr>\n",
       "      <th>id</th>\n",
       "      <th></th>\n",
       "      <th></th>\n",
       "      <th></th>\n",
       "      <th></th>\n",
       "      <th></th>\n",
       "    </tr>\n",
       "  </thead>\n",
       "  <tbody>\n",
       "    <tr>\n",
       "      <th>1</th>\n",
       "      <td>2019 C.T. Bauer College of Business Graduate (...</td>\n",
       "      <td>Houston, Texas</td>\n",
       "      <td>85</td>\n",
       "      <td>c.t. bauer college business graduate magna cum...</td>\n",
       "      <td>houston texas</td>\n",
       "    </tr>\n",
       "    <tr>\n",
       "      <th>2</th>\n",
       "      <td>Native English Teacher at EPIK (English Progra...</td>\n",
       "      <td>canada</td>\n",
       "      <td>500+</td>\n",
       "      <td>native english teacher epik english program korea</td>\n",
       "      <td>canada</td>\n",
       "    </tr>\n",
       "    <tr>\n",
       "      <th>3</th>\n",
       "      <td>Aspiring Human Resources Professional</td>\n",
       "      <td>Raleigh-Durham, North Carolina Area</td>\n",
       "      <td>44</td>\n",
       "      <td>aspire human resources professional</td>\n",
       "      <td>raleigh durham north carolina area</td>\n",
       "    </tr>\n",
       "    <tr>\n",
       "      <th>4</th>\n",
       "      <td>People Development Coordinator at Ryan</td>\n",
       "      <td>Denton, Texas</td>\n",
       "      <td>500+</td>\n",
       "      <td>people development coordinator ryan</td>\n",
       "      <td>denton texas</td>\n",
       "    </tr>\n",
       "    <tr>\n",
       "      <th>5</th>\n",
       "      <td>Advisory Board Member at Celal Bayar University</td>\n",
       "      <td>İzmir, Türkiye</td>\n",
       "      <td>500+</td>\n",
       "      <td>advisory board member celal bayar university</td>\n",
       "      <td>i̇zmir türkiye</td>\n",
       "    </tr>\n",
       "  </tbody>\n",
       "</table>\n",
       "</div>"
      ],
      "text/plain": [
       "                                            job_title  \\\n",
       "id                                                      \n",
       "1   2019 C.T. Bauer College of Business Graduate (...   \n",
       "2   Native English Teacher at EPIK (English Progra...   \n",
       "3               Aspiring Human Resources Professional   \n",
       "4              People Development Coordinator at Ryan   \n",
       "5     Advisory Board Member at Celal Bayar University   \n",
       "\n",
       "                               location connection  \\\n",
       "id                                                   \n",
       "1                        Houston, Texas         85   \n",
       "2                                canada      500+    \n",
       "3   Raleigh-Durham, North Carolina Area         44   \n",
       "4                         Denton, Texas      500+    \n",
       "5                        İzmir, Türkiye      500+    \n",
       "\n",
       "                               preprocessed_job_title  \\\n",
       "id                                                      \n",
       "1   c.t. bauer college business graduate magna cum...   \n",
       "2   native english teacher epik english program korea   \n",
       "3                 aspire human resources professional   \n",
       "4                 people development coordinator ryan   \n",
       "5        advisory board member celal bayar university   \n",
       "\n",
       "                 preprocessed_location  \n",
       "id                                      \n",
       "1                        houston texas  \n",
       "2                               canada  \n",
       "3   raleigh durham north carolina area  \n",
       "4                         denton texas  \n",
       "5                       i̇zmir türkiye  "
      ]
     },
     "execution_count": 49,
     "metadata": {},
     "output_type": "execute_result"
    }
   ],
   "source": [
    "#create a new column \"preprocessed_text\" which store the clean form of given text [use apply and lambda function]\n",
    "\n",
    "df['preprocessed_job_title'] = df['job_title'].apply(lambda text: preprocess(text))\n",
    "df['preprocessed_location'] = df['location'].apply(lambda text: preprocess(text))\n",
    "df.head()"
   ]
  },
  {
   "cell_type": "code",
   "execution_count": 53,
   "id": "66d9d90e",
   "metadata": {},
   "outputs": [],
   "source": [
    "#replace abreviations and uncorrect words by there real texts\n",
    "df.replace({'preprocessed_job_title' : { 'chro' : 'chief human resources officer', 'svp' : 'senior vice president'\n",
    "        ,'gphr' : 'global professional in human resources','hris' : 'human resources management system'\n",
    "        , 'csr' : 'corporate social responsibility', 'sphr' : 'strategic and policy-making certification'\n",
    "        , 'hr' : 'human resources'}}, regex=True, inplace=True)\n",
    "\n",
    "df.replace({'preprocessed_location' : { 'kanada' : 'canada', 'türkiye':'turkey', 'amerika birleşik devletleri' : 'united states america'}}, regex=True, inplace=True)"
   ]
  },
  {
   "cell_type": "code",
   "execution_count": 54,
   "id": "1c984192",
   "metadata": {},
   "outputs": [
    {
     "data": {
      "text/html": [
       "<div>\n",
       "<style scoped>\n",
       "    .dataframe tbody tr th:only-of-type {\n",
       "        vertical-align: middle;\n",
       "    }\n",
       "\n",
       "    .dataframe tbody tr th {\n",
       "        vertical-align: top;\n",
       "    }\n",
       "\n",
       "    .dataframe thead th {\n",
       "        text-align: right;\n",
       "    }\n",
       "</style>\n",
       "<table border=\"1\" class=\"dataframe\">\n",
       "  <thead>\n",
       "    <tr style=\"text-align: right;\">\n",
       "      <th></th>\n",
       "      <th>job_title</th>\n",
       "      <th>location</th>\n",
       "      <th>connection</th>\n",
       "      <th>preprocessed_job_title</th>\n",
       "      <th>preprocessed_location</th>\n",
       "    </tr>\n",
       "    <tr>\n",
       "      <th>id</th>\n",
       "      <th></th>\n",
       "      <th></th>\n",
       "      <th></th>\n",
       "      <th></th>\n",
       "      <th></th>\n",
       "    </tr>\n",
       "  </thead>\n",
       "  <tbody>\n",
       "    <tr>\n",
       "      <th>1</th>\n",
       "      <td>2019 C.T. Bauer College of Business Graduate (...</td>\n",
       "      <td>Houston, Texas</td>\n",
       "      <td>85</td>\n",
       "      <td>c.t. bauer college business graduate magna cum...</td>\n",
       "      <td>houston texas</td>\n",
       "    </tr>\n",
       "    <tr>\n",
       "      <th>2</th>\n",
       "      <td>Native English Teacher at EPIK (English Progra...</td>\n",
       "      <td>canada</td>\n",
       "      <td>500+</td>\n",
       "      <td>native english teacher epik english program korea</td>\n",
       "      <td>canada</td>\n",
       "    </tr>\n",
       "    <tr>\n",
       "      <th>3</th>\n",
       "      <td>Aspiring Human Resources Professional</td>\n",
       "      <td>Raleigh-Durham, North Carolina Area</td>\n",
       "      <td>44</td>\n",
       "      <td>aspire human resources professional</td>\n",
       "      <td>raleigh durham north carolina area</td>\n",
       "    </tr>\n",
       "    <tr>\n",
       "      <th>4</th>\n",
       "      <td>People Development Coordinator at Ryan</td>\n",
       "      <td>Denton, Texas</td>\n",
       "      <td>500+</td>\n",
       "      <td>people development coordinator ryan</td>\n",
       "      <td>denton texas</td>\n",
       "    </tr>\n",
       "    <tr>\n",
       "      <th>5</th>\n",
       "      <td>Advisory Board Member at Celal Bayar University</td>\n",
       "      <td>İzmir, Türkiye</td>\n",
       "      <td>500+</td>\n",
       "      <td>advisory board member celal bayar university</td>\n",
       "      <td>i̇zmir turkey</td>\n",
       "    </tr>\n",
       "  </tbody>\n",
       "</table>\n",
       "</div>"
      ],
      "text/plain": [
       "                                            job_title  \\\n",
       "id                                                      \n",
       "1   2019 C.T. Bauer College of Business Graduate (...   \n",
       "2   Native English Teacher at EPIK (English Progra...   \n",
       "3               Aspiring Human Resources Professional   \n",
       "4              People Development Coordinator at Ryan   \n",
       "5     Advisory Board Member at Celal Bayar University   \n",
       "\n",
       "                               location connection  \\\n",
       "id                                                   \n",
       "1                        Houston, Texas         85   \n",
       "2                                canada      500+    \n",
       "3   Raleigh-Durham, North Carolina Area         44   \n",
       "4                         Denton, Texas      500+    \n",
       "5                        İzmir, Türkiye      500+    \n",
       "\n",
       "                               preprocessed_job_title  \\\n",
       "id                                                      \n",
       "1   c.t. bauer college business graduate magna cum...   \n",
       "2   native english teacher epik english program korea   \n",
       "3                 aspire human resources professional   \n",
       "4                 people development coordinator ryan   \n",
       "5        advisory board member celal bayar university   \n",
       "\n",
       "                 preprocessed_location  \n",
       "id                                      \n",
       "1                        houston texas  \n",
       "2                               canada  \n",
       "3   raleigh durham north carolina area  \n",
       "4                         denton texas  \n",
       "5                        i̇zmir turkey  "
      ]
     },
     "execution_count": 54,
     "metadata": {},
     "output_type": "execute_result"
    }
   ],
   "source": [
    "df.head()"
   ]
  },
  {
   "cell_type": "code",
   "execution_count": 63,
   "id": "ed8f8cd5",
   "metadata": {},
   "outputs": [
    {
     "data": {
      "text/html": [
       "<div>\n",
       "<style scoped>\n",
       "    .dataframe tbody tr th:only-of-type {\n",
       "        vertical-align: middle;\n",
       "    }\n",
       "\n",
       "    .dataframe tbody tr th {\n",
       "        vertical-align: top;\n",
       "    }\n",
       "\n",
       "    .dataframe thead th {\n",
       "        text-align: right;\n",
       "    }\n",
       "</style>\n",
       "<table border=\"1\" class=\"dataframe\">\n",
       "  <thead>\n",
       "    <tr style=\"text-align: right;\">\n",
       "      <th></th>\n",
       "      <th>job_title</th>\n",
       "      <th>location</th>\n",
       "      <th>connection</th>\n",
       "      <th>preprocessed_job_title</th>\n",
       "      <th>preprocessed_location</th>\n",
       "    </tr>\n",
       "    <tr>\n",
       "      <th>id</th>\n",
       "      <th></th>\n",
       "      <th></th>\n",
       "      <th></th>\n",
       "      <th></th>\n",
       "      <th></th>\n",
       "    </tr>\n",
       "  </thead>\n",
       "  <tbody>\n",
       "    <tr>\n",
       "      <th>1</th>\n",
       "      <td>2019 C.T. Bauer College of Business Graduate (...</td>\n",
       "      <td>Houston, Texas</td>\n",
       "      <td>85</td>\n",
       "      <td>bauer college business graduate magna cum laud...</td>\n",
       "      <td>houston texas</td>\n",
       "    </tr>\n",
       "    <tr>\n",
       "      <th>2</th>\n",
       "      <td>Native English Teacher at EPIK (English Progra...</td>\n",
       "      <td>canada</td>\n",
       "      <td>500+</td>\n",
       "      <td>native english teacher english program korea</td>\n",
       "      <td>canada</td>\n",
       "    </tr>\n",
       "    <tr>\n",
       "      <th>3</th>\n",
       "      <td>Aspiring Human Resources Professional</td>\n",
       "      <td>Raleigh-Durham, North Carolina Area</td>\n",
       "      <td>44</td>\n",
       "      <td>aspire human resource professional</td>\n",
       "      <td>raleigh durham north carolina area</td>\n",
       "    </tr>\n",
       "    <tr>\n",
       "      <th>4</th>\n",
       "      <td>People Development Coordinator at Ryan</td>\n",
       "      <td>Denton, Texas</td>\n",
       "      <td>500+</td>\n",
       "      <td>people development coordinator ryan</td>\n",
       "      <td>denton texas</td>\n",
       "    </tr>\n",
       "    <tr>\n",
       "      <th>5</th>\n",
       "      <td>Advisory Board Member at Celal Bayar University</td>\n",
       "      <td>İzmir, Türkiye</td>\n",
       "      <td>500+</td>\n",
       "      <td>advisory board member university</td>\n",
       "      <td></td>\n",
       "    </tr>\n",
       "  </tbody>\n",
       "</table>\n",
       "</div>"
      ],
      "text/plain": [
       "                                            job_title  \\\n",
       "id                                                      \n",
       "1   2019 C.T. Bauer College of Business Graduate (...   \n",
       "2   Native English Teacher at EPIK (English Progra...   \n",
       "3               Aspiring Human Resources Professional   \n",
       "4              People Development Coordinator at Ryan   \n",
       "5     Advisory Board Member at Celal Bayar University   \n",
       "\n",
       "                               location connection  \\\n",
       "id                                                   \n",
       "1                        Houston, Texas         85   \n",
       "2                                canada      500+    \n",
       "3   Raleigh-Durham, North Carolina Area         44   \n",
       "4                         Denton, Texas      500+    \n",
       "5                        İzmir, Türkiye      500+    \n",
       "\n",
       "                               preprocessed_job_title  \\\n",
       "id                                                      \n",
       "1   bauer college business graduate magna cum laud...   \n",
       "2        native english teacher english program korea   \n",
       "3                  aspire human resource professional   \n",
       "4                 people development coordinator ryan   \n",
       "5                    advisory board member university   \n",
       "\n",
       "                 preprocessed_location  \n",
       "id                                      \n",
       "1                        houston texas  \n",
       "2                               canada  \n",
       "3   raleigh durham north carolina area  \n",
       "4                         denton texas  \n",
       "5                                       "
      ]
     },
     "execution_count": 63,
     "metadata": {},
     "output_type": "execute_result"
    }
   ],
   "source": [
    "#Second utility function to preprocess words out of vocabulary\n",
    "def preprocess1(text):\n",
    "    doc = nlp(text)\n",
    "    filtered_tokens = []\n",
    "    for token in doc:\n",
    "        if token.is_stop or token.is_punct or token.is_digit or token.is_oov:\n",
    "            continue\n",
    "        filtered_tokens.append(token.lemma_.lower())\n",
    "    return ' '.join(filtered_tokens)\n",
    "df['preprocessed_job_title'] = df['preprocessed_job_title'].apply(lambda text: preprocess1(text))\n",
    "df['preprocessed_location'] = df['preprocessed_location'].apply(lambda text: preprocess1(text))\n",
    "df.head()"
   ]
  },
  {
   "cell_type": "code",
   "execution_count": 64,
   "id": "65a9d04c",
   "metadata": {},
   "outputs": [
    {
     "name": "stdout",
     "output_type": "stream",
     "text": [
      "There are 153 words in the job title column\n"
     ]
    },
    {
     "data": {
      "text/plain": [
       "[('human', 34),\n",
       " ('resource', 33),\n",
       " ('aspire', 13),\n",
       " ('professional', 10),\n",
       " ('seek', 10),\n",
       " ('|', 10),\n",
       " ('manager', 7),\n",
       " ('university', 6),\n",
       " ('student', 6),\n",
       " ('business', 5),\n",
       " ('generalist', 5),\n",
       " ('specialist', 4),\n",
       " ('position', 4),\n",
       " ('management', 4),\n",
       " ('opportunity', 3),\n",
       " ('director', 3),\n",
       " ('major', 3),\n",
       " ('college', 2),\n",
       " ('english', 2),\n",
       " ('coordinator', 2),\n",
       " ('hr', 2),\n",
       " ('senior', 2),\n",
       " ('internship', 2),\n",
       " ('retail', 2),\n",
       " ('north', 2),\n",
       " ('america', 2),\n",
       " ('information', 2),\n",
       " ('system', 2),\n",
       " ('leader', 2),\n",
       " ('bauer', 1),\n",
       " ('graduate', 1),\n",
       " ('magna', 1),\n",
       " ('cum', 1),\n",
       " ('laude', 1),\n",
       " ('native', 1),\n",
       " ('teacher', 1),\n",
       " ('program', 1),\n",
       " ('korea', 1),\n",
       " ('people', 1),\n",
       " ('development', 1),\n",
       " ('ryan', 1),\n",
       " ('advisory', 1),\n",
       " ('board', 1),\n",
       " ('member', 1),\n",
       " ('chapman', 1),\n",
       " ('svp', 1),\n",
       " ('marketing', 1),\n",
       " ('communication', 1),\n",
       " ('csr', 1),\n",
       " ('officer', 1),\n",
       " ('houston', 1),\n",
       " ('woodlands', 1),\n",
       " ('energy', 1),\n",
       " ('intercontinental', 1),\n",
       " ('atlanta', 1),\n",
       " ('experience', 1),\n",
       " ('staff', 1),\n",
       " ('recruit', 1),\n",
       " ('groupe', 1),\n",
       " ('retire', 1),\n",
       " ('army', 1),\n",
       " ('national', 1),\n",
       " ('guard', 1),\n",
       " ('recruiter', 1),\n",
       " ('office', 1),\n",
       " ('inc', 1),\n",
       " ('staffing', 1),\n",
       " ('payroll', 1),\n",
       " ('administrative', 1),\n",
       " ('passionate', 1),\n",
       " ('help', 1),\n",
       " ('create', 1),\n",
       " ('inclusive', 1),\n",
       " ('engaging', 1),\n",
       " ('work', 1),\n",
       " ('environment', 1),\n",
       " ('conflict', 1),\n",
       " ('policy', 1),\n",
       " ('compensation', 1),\n",
       " ('liberal', 1),\n",
       " ('art', 1),\n",
       " ('analyst', 1),\n",
       " ('junior', 1),\n",
       " ('mes', 1),\n",
       " ('partner', 1),\n",
       " ('heil', 1),\n",
       " ('environmental', 1),\n",
       " ('energetic', 1),\n",
       " ('team', 1),\n",
       " ('focus', 1),\n",
       " ('shine', 1),\n",
       " ('world', 1),\n",
       " ('gis', 1),\n",
       " ('software', 1),\n",
       " ('rrp', 1),\n",
       " ('brand', 1),\n",
       " ('portfolio', 1),\n",
       " ('executive', 1),\n",
       " ('japan', 1),\n",
       " ('tobacco', 1),\n",
       " ('international', 1),\n",
       " ('programmer', 1),\n",
       " ('love', 1),\n",
       " ('datum', 1),\n",
       " ('organization', 1),\n",
       " ('bachelor', 1),\n",
       " ('science', 1),\n",
       " ('biology', 1),\n",
       " ('victoria', 1),\n",
       " ('wellington', 1),\n",
       " ('ey', 1),\n",
       " ('undergraduate', 1),\n",
       " ('research', 1),\n",
       " ('assistant', 1),\n",
       " ('lab', 1),\n",
       " ('lead', 1),\n",
       " ('official', 1),\n",
       " ('western', 1),\n",
       " ('illinois', 1),\n",
       " ('employment', 1),\n",
       " ('customer', 1),\n",
       " ('service', 1),\n",
       " ('patient', 1),\n",
       " ('care', 1),\n",
       " ('admission', 1),\n",
       " ('representative', 1),\n",
       " ('community', 1),\n",
       " ('medical', 1),\n",
       " ('center', 1),\n",
       " ('long', 1),\n",
       " ('beach', 1),\n",
       " ('open', 1),\n",
       " ('travel', 1),\n",
       " ('relocation', 1),\n",
       " ('westfield', 1),\n",
       " ('state', 1),\n",
       " ('indiana', 1),\n",
       " ('delphi', 1),\n",
       " ('hardware', 1),\n",
       " ('paint', 1),\n",
       " ('graduating', 1),\n",
       " ('entry', 1),\n",
       " ('level', 1),\n",
       " ('st', 1),\n",
       " ('louis', 1),\n",
       " ('intelligence', 1),\n",
       " ('analytic', 1),\n",
       " ('traveler', 1),\n",
       " ('set', 1),\n",
       " ('success', 1),\n",
       " ('administration', 1),\n",
       " ('excellence', 1),\n",
       " ('log', 1)]"
      ]
     },
     "execution_count": 64,
     "metadata": {},
     "output_type": "execute_result"
    }
   ],
   "source": [
    "words_counts = Counter()\n",
    "for i in df.preprocessed_job_title:\n",
    "    for word in i.split(\" \"):\n",
    "        words_counts[word] += 1\n",
    "\n",
    "print('There are', len(words_counts) ,'words in the job title column')\n",
    "words_counts.most_common()"
   ]
  },
  {
   "cell_type": "markdown",
   "id": "3d1fa4c7",
   "metadata": {},
   "source": [
    "The 5 most common word are **human**, **resources**,  **aspire**,  **professional** and **seek**"
   ]
  },
  {
   "cell_type": "markdown",
   "id": "ad08245d",
   "metadata": {},
   "source": [
    "## Modeling\n",
    "\n",
    "### Applying ranking with tfidf and bert transformation"
   ]
  },
  {
   "cell_type": "markdown",
   "id": "04b650c8",
   "metadata": {},
   "source": [
    "1. Applying tfidf ranking"
   ]
  },
  {
   "cell_type": "code",
   "execution_count": 56,
   "id": "ae8d7de9",
   "metadata": {},
   "outputs": [],
   "source": [
    "df1=df.copy()"
   ]
  },
  {
   "cell_type": "code",
   "execution_count": 75,
   "id": "37571efa",
   "metadata": {},
   "outputs": [],
   "source": [
    "def rank_candidates_tfidf(keyword,df,feature_name):\n",
    "    #store cleaned rows into a list\n",
    "    corpus=df[feature_name].tolist()\n",
    "    #create an instance of tfidfVectorizer\n",
    "    tfvectoriser = TfidfVectorizer()\n",
    "    #Append the cleaned keyword to th corpus list \n",
    "    corpus.append(keyword)\n",
    "    #fit the Tfidf vectorizer on the cleaned data\n",
    "    key_tf=tfvectoriser.fit_transform(corpus)\n",
    "    #create a dataframe that contains tfidf values of each token for each row in th data\n",
    "    key_df=pd.DataFrame(key_tf.toarray(), columns=tfvectoriser.get_feature_names())\n",
    "    shape=key_df.shape\n",
    "    #calculate the cosine similarity between the keyword and the data's rows\n",
    "    cosine_sim = cosine_similarity(key_tf.toarray()[:shape[0]-1], key_tf.toarray()[shape[0]-1].reshape(1, -1))\n",
    "    #Add cosine resluts into a new column fit\n",
    "    df['fit_tfidf']=cosine_sim\n",
    "    #store the ranked candidates based on the fit score\n",
    "    final_df=df.sort_values('fit_tfidf',ascending=False)\n",
    "    #remove the keyword added to reuse the function again on other different keywords\n",
    "    corpus.pop()\n",
    "    return final_df"
   ]
  },
  {
   "cell_type": "markdown",
   "id": "a92c20bb",
   "metadata": {},
   "source": [
    " * Test the rank_candidate function"
   ]
  },
  {
   "cell_type": "code",
   "execution_count": 87,
   "id": "861c97fa",
   "metadata": {},
   "outputs": [],
   "source": [
    "# pip intall -u sentence-tranformers"
   ]
  },
  {
   "cell_type": "code",
   "execution_count": 88,
   "id": "de91c64e",
   "metadata": {},
   "outputs": [],
   "source": [
    "from sklearn.feature_extraction.text import TfidfVectorizer\n",
    "from sklearn.metrics.pairwise import cosine_similarity\n",
    "import nltk\n",
    "import warnings\n",
    "warnings.filterwarnings(\"ignore\")\n",
    "from sentence_transformers import SentenceTransformer\n",
    "# import nltk\n",
    "# import re\n",
    "# import string\n",
    "# import gensim"
   ]
  },
  {
   "cell_type": "code",
   "execution_count": 81,
   "id": "21abd1c8",
   "metadata": {},
   "outputs": [],
   "source": [
    "keyword='aspire human resources'\n",
    "df1=rank_candidates_tfidf(keyword,df1,\"preprocessed_job_title\")"
   ]
  },
  {
   "cell_type": "code",
   "execution_count": 82,
   "id": "3d34a7db",
   "metadata": {},
   "outputs": [
    {
     "name": "stdout",
     "output_type": "stream",
     "text": [
      "There are 35 ranked candidates for the job aspire human resources\n"
     ]
    }
   ],
   "source": [
    "#number of ranked candidates based on the keyword\n",
    "print('There are',df1[df1['fit_tfidf']!=0].shape[0],'ranked candidates for the job',keyword)"
   ]
  },
  {
   "cell_type": "code",
   "execution_count": 83,
   "id": "f833c9cb",
   "metadata": {},
   "outputs": [
    {
     "data": {
      "text/html": [
       "<div>\n",
       "<style scoped>\n",
       "    .dataframe tbody tr th:only-of-type {\n",
       "        vertical-align: middle;\n",
       "    }\n",
       "\n",
       "    .dataframe tbody tr th {\n",
       "        vertical-align: top;\n",
       "    }\n",
       "\n",
       "    .dataframe thead th {\n",
       "        text-align: right;\n",
       "    }\n",
       "</style>\n",
       "<table border=\"1\" class=\"dataframe\">\n",
       "  <thead>\n",
       "    <tr style=\"text-align: right;\">\n",
       "      <th></th>\n",
       "      <th>job_title</th>\n",
       "      <th>location</th>\n",
       "      <th>connection</th>\n",
       "      <th>preprocessed_job_title</th>\n",
       "      <th>preprocessed_location</th>\n",
       "      <th>fit_tfidf</th>\n",
       "    </tr>\n",
       "    <tr>\n",
       "      <th>id</th>\n",
       "      <th></th>\n",
       "      <th></th>\n",
       "      <th></th>\n",
       "      <th></th>\n",
       "      <th></th>\n",
       "      <th></th>\n",
       "    </tr>\n",
       "  </thead>\n",
       "  <tbody>\n",
       "    <tr>\n",
       "      <th>97</th>\n",
       "      <td>Aspiring Human Resources Professional</td>\n",
       "      <td>Kokomo, Indiana Area</td>\n",
       "      <td>71</td>\n",
       "      <td>aspire human resources professional</td>\n",
       "      <td>kokomo indiana area</td>\n",
       "      <td>0.769180</td>\n",
       "    </tr>\n",
       "    <tr>\n",
       "      <th>3</th>\n",
       "      <td>Aspiring Human Resources Professional</td>\n",
       "      <td>Raleigh-Durham, North Carolina Area</td>\n",
       "      <td>44</td>\n",
       "      <td>aspire human resources professional</td>\n",
       "      <td>raleigh durham north carolina area</td>\n",
       "      <td>0.769180</td>\n",
       "    </tr>\n",
       "    <tr>\n",
       "      <th>6</th>\n",
       "      <td>Aspiring Human Resources Specialist</td>\n",
       "      <td>Greater New York City Area</td>\n",
       "      <td>1</td>\n",
       "      <td>aspire human resources specialist</td>\n",
       "      <td>greater new york city area</td>\n",
       "      <td>0.678790</td>\n",
       "    </tr>\n",
       "    <tr>\n",
       "      <th>73</th>\n",
       "      <td>Aspiring Human Resources Manager, seeking inte...</td>\n",
       "      <td>Houston, Texas Area</td>\n",
       "      <td>7</td>\n",
       "      <td>aspire human resources manager seek internship...</td>\n",
       "      <td>houston texas area</td>\n",
       "      <td>0.606442</td>\n",
       "    </tr>\n",
       "    <tr>\n",
       "      <th>27</th>\n",
       "      <td>Aspiring Human Resources Management student se...</td>\n",
       "      <td>Houston, Texas Area</td>\n",
       "      <td>500+</td>\n",
       "      <td>aspire human resources management student seek...</td>\n",
       "      <td>houston texas area</td>\n",
       "      <td>0.441125</td>\n",
       "    </tr>\n",
       "    <tr>\n",
       "      <th>66</th>\n",
       "      <td>Experienced Retail Manager and aspiring Human ...</td>\n",
       "      <td>Austin, Texas Area</td>\n",
       "      <td>57</td>\n",
       "      <td>experience retail manager aspire human resourc...</td>\n",
       "      <td>austin texas area</td>\n",
       "      <td>0.408434</td>\n",
       "    </tr>\n",
       "    <tr>\n",
       "      <th>74</th>\n",
       "      <td>Human Resources Professional</td>\n",
       "      <td>Greater Boston Area</td>\n",
       "      <td>16</td>\n",
       "      <td>human resources professional</td>\n",
       "      <td>greater boston area</td>\n",
       "      <td>0.379428</td>\n",
       "    </tr>\n",
       "    <tr>\n",
       "      <th>100</th>\n",
       "      <td>Aspiring Human Resources Manager | Graduating ...</td>\n",
       "      <td>Cape Girardeau, Missouri</td>\n",
       "      <td>103</td>\n",
       "      <td>aspire human resources manager | graduating | ...</td>\n",
       "      <td>cape girardeau missouri</td>\n",
       "      <td>0.366335</td>\n",
       "    </tr>\n",
       "    <tr>\n",
       "      <th>79</th>\n",
       "      <td>Liberal Arts Major. Aspiring Human Resources A...</td>\n",
       "      <td>Baton Rouge, Louisiana Area</td>\n",
       "      <td>7</td>\n",
       "      <td>liberal arts major aspire human resources analyst</td>\n",
       "      <td>baton rouge louisiana area</td>\n",
       "      <td>0.353795</td>\n",
       "    </tr>\n",
       "    <tr>\n",
       "      <th>82</th>\n",
       "      <td>Aspiring Human Resources Professional | An ene...</td>\n",
       "      <td>Austin, Texas Area</td>\n",
       "      <td>174</td>\n",
       "      <td>aspire human resources professional | energeti...</td>\n",
       "      <td>austin texas area</td>\n",
       "      <td>0.335222</td>\n",
       "    </tr>\n",
       "  </tbody>\n",
       "</table>\n",
       "</div>"
      ],
      "text/plain": [
       "                                             job_title  \\\n",
       "id                                                       \n",
       "97               Aspiring Human Resources Professional   \n",
       "3                Aspiring Human Resources Professional   \n",
       "6                  Aspiring Human Resources Specialist   \n",
       "73   Aspiring Human Resources Manager, seeking inte...   \n",
       "27   Aspiring Human Resources Management student se...   \n",
       "66   Experienced Retail Manager and aspiring Human ...   \n",
       "74                        Human Resources Professional   \n",
       "100  Aspiring Human Resources Manager | Graduating ...   \n",
       "79   Liberal Arts Major. Aspiring Human Resources A...   \n",
       "82   Aspiring Human Resources Professional | An ene...   \n",
       "\n",
       "                                location connection  \\\n",
       "id                                                    \n",
       "97                  Kokomo, Indiana Area         71   \n",
       "3    Raleigh-Durham, North Carolina Area         44   \n",
       "6             Greater New York City Area          1   \n",
       "73                   Houston, Texas Area          7   \n",
       "27                   Houston, Texas Area      500+    \n",
       "66                    Austin, Texas Area         57   \n",
       "74                   Greater Boston Area         16   \n",
       "100             Cape Girardeau, Missouri        103   \n",
       "79           Baton Rouge, Louisiana Area          7   \n",
       "82                    Austin, Texas Area        174   \n",
       "\n",
       "                                preprocessed_job_title  \\\n",
       "id                                                       \n",
       "97                 aspire human resources professional   \n",
       "3                  aspire human resources professional   \n",
       "6                    aspire human resources specialist   \n",
       "73   aspire human resources manager seek internship...   \n",
       "27   aspire human resources management student seek...   \n",
       "66   experience retail manager aspire human resourc...   \n",
       "74                        human resources professional   \n",
       "100  aspire human resources manager | graduating | ...   \n",
       "79   liberal arts major aspire human resources analyst   \n",
       "82   aspire human resources professional | energeti...   \n",
       "\n",
       "                  preprocessed_location  fit_tfidf  \n",
       "id                                                  \n",
       "97                  kokomo indiana area   0.769180  \n",
       "3    raleigh durham north carolina area   0.769180  \n",
       "6            greater new york city area   0.678790  \n",
       "73                   houston texas area   0.606442  \n",
       "27                   houston texas area   0.441125  \n",
       "66                    austin texas area   0.408434  \n",
       "74                  greater boston area   0.379428  \n",
       "100             cape girardeau missouri   0.366335  \n",
       "79           baton rouge louisiana area   0.353795  \n",
       "82                    austin texas area   0.335222  "
      ]
     },
     "execution_count": 83,
     "metadata": {},
     "output_type": "execute_result"
    }
   ],
   "source": [
    "#Explore the new column \n",
    "df1.head(10)"
   ]
  },
  {
   "cell_type": "markdown",
   "id": "df7f5a57",
   "metadata": {},
   "source": [
    "2. Applying bert"
   ]
  },
  {
   "cell_type": "code",
   "execution_count": 89,
   "id": "c00a085a",
   "metadata": {},
   "outputs": [
    {
     "data": {
      "application/vnd.jupyter.widget-view+json": {
       "model_id": "8b138942293245ee9bfb760b7fd2e181",
       "version_major": 2,
       "version_minor": 0
      },
      "text/plain": [
       "Downloading:   0%|          | 0.00/1.18k [00:00<?, ?B/s]"
      ]
     },
     "metadata": {},
     "output_type": "display_data"
    },
    {
     "data": {
      "application/vnd.jupyter.widget-view+json": {
       "model_id": "f7298dd27f4c47de9600f4691c3487de",
       "version_major": 2,
       "version_minor": 0
      },
      "text/plain": [
       "Downloading:   0%|          | 0.00/190 [00:00<?, ?B/s]"
      ]
     },
     "metadata": {},
     "output_type": "display_data"
    },
    {
     "data": {
      "application/vnd.jupyter.widget-view+json": {
       "model_id": "1defb7529f174f56ba37d76db9e37d86",
       "version_major": 2,
       "version_minor": 0
      },
      "text/plain": [
       "Downloading:   0%|          | 0.00/10.6k [00:00<?, ?B/s]"
      ]
     },
     "metadata": {},
     "output_type": "display_data"
    },
    {
     "data": {
      "application/vnd.jupyter.widget-view+json": {
       "model_id": "890148d49c1f4875b164dfc45ced1320",
       "version_major": 2,
       "version_minor": 0
      },
      "text/plain": [
       "Downloading:   0%|          | 0.00/612 [00:00<?, ?B/s]"
      ]
     },
     "metadata": {},
     "output_type": "display_data"
    },
    {
     "data": {
      "application/vnd.jupyter.widget-view+json": {
       "model_id": "7c1e86b47e1a41fe98be905174223c0b",
       "version_major": 2,
       "version_minor": 0
      },
      "text/plain": [
       "Downloading:   0%|          | 0.00/116 [00:00<?, ?B/s]"
      ]
     },
     "metadata": {},
     "output_type": "display_data"
    },
    {
     "data": {
      "application/vnd.jupyter.widget-view+json": {
       "model_id": "74bc4550e64443d9a5f8e5b5f4751b9e",
       "version_major": 2,
       "version_minor": 0
      },
      "text/plain": [
       "Downloading:   0%|          | 0.00/39.3k [00:00<?, ?B/s]"
      ]
     },
     "metadata": {},
     "output_type": "display_data"
    },
    {
     "data": {
      "application/vnd.jupyter.widget-view+json": {
       "model_id": "9fe4614cefb04b2f890b7cfb01598271",
       "version_major": 2,
       "version_minor": 0
      },
      "text/plain": [
       "Downloading:   0%|          | 0.00/90.9M [00:00<?, ?B/s]"
      ]
     },
     "metadata": {},
     "output_type": "display_data"
    },
    {
     "data": {
      "application/vnd.jupyter.widget-view+json": {
       "model_id": "c39422caac1b40b1977663c4465f1c5a",
       "version_major": 2,
       "version_minor": 0
      },
      "text/plain": [
       "Downloading:   0%|          | 0.00/53.0 [00:00<?, ?B/s]"
      ]
     },
     "metadata": {},
     "output_type": "display_data"
    },
    {
     "data": {
      "application/vnd.jupyter.widget-view+json": {
       "model_id": "0d00fe2d72c941deb659215684558080",
       "version_major": 2,
       "version_minor": 0
      },
      "text/plain": [
       "Downloading:   0%|          | 0.00/112 [00:00<?, ?B/s]"
      ]
     },
     "metadata": {},
     "output_type": "display_data"
    },
    {
     "data": {
      "application/vnd.jupyter.widget-view+json": {
       "model_id": "89681a004e174bb3bf486af3105576a2",
       "version_major": 2,
       "version_minor": 0
      },
      "text/plain": [
       "Downloading:   0%|          | 0.00/466k [00:00<?, ?B/s]"
      ]
     },
     "metadata": {},
     "output_type": "display_data"
    },
    {
     "data": {
      "application/vnd.jupyter.widget-view+json": {
       "model_id": "cac09f20c40f477c81d9c5cbf4302ee0",
       "version_major": 2,
       "version_minor": 0
      },
      "text/plain": [
       "Downloading:   0%|          | 0.00/350 [00:00<?, ?B/s]"
      ]
     },
     "metadata": {},
     "output_type": "display_data"
    },
    {
     "data": {
      "application/vnd.jupyter.widget-view+json": {
       "model_id": "1b96755b76a34475b1105d6ee275fe3a",
       "version_major": 2,
       "version_minor": 0
      },
      "text/plain": [
       "Downloading:   0%|          | 0.00/13.2k [00:00<?, ?B/s]"
      ]
     },
     "metadata": {},
     "output_type": "display_data"
    },
    {
     "data": {
      "application/vnd.jupyter.widget-view+json": {
       "model_id": "29c47d1bd2664fa99b2c95779d56e69a",
       "version_major": 2,
       "version_minor": 0
      },
      "text/plain": [
       "Downloading:   0%|          | 0.00/232k [00:00<?, ?B/s]"
      ]
     },
     "metadata": {},
     "output_type": "display_data"
    },
    {
     "data": {
      "application/vnd.jupyter.widget-view+json": {
       "model_id": "a23328b5b7a1481aa6773d274d157f9b",
       "version_major": 2,
       "version_minor": 0
      },
      "text/plain": [
       "Downloading:   0%|          | 0.00/349 [00:00<?, ?B/s]"
      ]
     },
     "metadata": {},
     "output_type": "display_data"
    }
   ],
   "source": [
    "#Load the pretrained model \n",
    "bert = SentenceTransformer('all-MiniLM-L6-v2')"
   ]
  },
  {
   "cell_type": "code",
   "execution_count": 90,
   "id": "318f2a0b",
   "metadata": {},
   "outputs": [],
   "source": [
    "def rank_candidates_bert(keyword,df,feature_name):\n",
    "    #load bert model \n",
    "    bert = SentenceTransformer('all-MiniLM-L6-v2')\n",
    "    #store cleaned rows into a list\n",
    "    corpus=df[feature_name].tolist()\n",
    "    #Append the cleaned keyword to th corpus list \n",
    "    corpus.append(keyword)\n",
    "    #encode our sentences\n",
    "    sentence_embeddings = bert.encode(corpus)\n",
    "    print(\"the shape of our encoded sentences is\",sentence_embeddings.shape)\n",
    "    shape=sentence_embeddings.shape\n",
    "    #calculate the cosine similarity between the keyword and the data's rows\n",
    "    cosine_sim = cosine_similarity(sentence_embeddings[:shape[0]-1], sentence_embeddings[shape[0]-1].reshape(1, -1))\n",
    "    #Add cosine resluts into a new column fit\n",
    "    df['fit_bert']=cosine_sim\n",
    "    #store the ranked candidates based on the fit score\n",
    "    final_df=df.sort_values('fit_bert',ascending=False)\n",
    "    #remove the keyword added to reuse the function again on other different keywords\n",
    "    corpus.pop()\n",
    "    return final_df"
   ]
  },
  {
   "cell_type": "code",
   "execution_count": 91,
   "id": "11c34cba",
   "metadata": {},
   "outputs": [
    {
     "name": "stdout",
     "output_type": "stream",
     "text": [
      "the shape of our encoded sentences is (54, 384)\n",
      "There are 53 ranked candidates for the job aspire human resources\n"
     ]
    }
   ],
   "source": [
    "keyword='aspire human resources'\n",
    "df1=rank_candidates_bert(keyword,df1,\"preprocessed_job_title\")\n",
    "\n",
    "#number of ranked candidates based on the keyword\n",
    "print('There are',df1[df1['fit_bert']!=0].shape[0],'ranked candidates for the job',keyword)"
   ]
  },
  {
   "cell_type": "code",
   "execution_count": 92,
   "id": "9da9379e",
   "metadata": {},
   "outputs": [
    {
     "data": {
      "text/html": [
       "<div>\n",
       "<style scoped>\n",
       "    .dataframe tbody tr th:only-of-type {\n",
       "        vertical-align: middle;\n",
       "    }\n",
       "\n",
       "    .dataframe tbody tr th {\n",
       "        vertical-align: top;\n",
       "    }\n",
       "\n",
       "    .dataframe thead th {\n",
       "        text-align: right;\n",
       "    }\n",
       "</style>\n",
       "<table border=\"1\" class=\"dataframe\">\n",
       "  <thead>\n",
       "    <tr style=\"text-align: right;\">\n",
       "      <th></th>\n",
       "      <th>job_title</th>\n",
       "      <th>location</th>\n",
       "      <th>connection</th>\n",
       "      <th>preprocessed_job_title</th>\n",
       "      <th>preprocessed_location</th>\n",
       "      <th>fit_tfidf</th>\n",
       "      <th>fit_bert</th>\n",
       "    </tr>\n",
       "    <tr>\n",
       "      <th>id</th>\n",
       "      <th></th>\n",
       "      <th></th>\n",
       "      <th></th>\n",
       "      <th></th>\n",
       "      <th></th>\n",
       "      <th></th>\n",
       "      <th></th>\n",
       "    </tr>\n",
       "  </thead>\n",
       "  <tbody>\n",
       "    <tr>\n",
       "      <th>97</th>\n",
       "      <td>Aspiring Human Resources Professional</td>\n",
       "      <td>Kokomo, Indiana Area</td>\n",
       "      <td>71</td>\n",
       "      <td>aspire human resources professional</td>\n",
       "      <td>kokomo indiana area</td>\n",
       "      <td>0.769180</td>\n",
       "      <td>0.928787</td>\n",
       "    </tr>\n",
       "    <tr>\n",
       "      <th>3</th>\n",
       "      <td>Aspiring Human Resources Professional</td>\n",
       "      <td>Raleigh-Durham, North Carolina Area</td>\n",
       "      <td>44</td>\n",
       "      <td>aspire human resources professional</td>\n",
       "      <td>raleigh durham north carolina area</td>\n",
       "      <td>0.769180</td>\n",
       "      <td>0.928787</td>\n",
       "    </tr>\n",
       "    <tr>\n",
       "      <th>6</th>\n",
       "      <td>Aspiring Human Resources Specialist</td>\n",
       "      <td>Greater New York City Area</td>\n",
       "      <td>1</td>\n",
       "      <td>aspire human resources specialist</td>\n",
       "      <td>greater new york city area</td>\n",
       "      <td>0.678790</td>\n",
       "      <td>0.916763</td>\n",
       "    </tr>\n",
       "    <tr>\n",
       "      <th>100</th>\n",
       "      <td>Aspiring Human Resources Manager | Graduating ...</td>\n",
       "      <td>Cape Girardeau, Missouri</td>\n",
       "      <td>103</td>\n",
       "      <td>aspire human resources manager | graduating | ...</td>\n",
       "      <td>cape girardeau missouri</td>\n",
       "      <td>0.366335</td>\n",
       "      <td>0.750043</td>\n",
       "    </tr>\n",
       "    <tr>\n",
       "      <th>82</th>\n",
       "      <td>Aspiring Human Resources Professional | An ene...</td>\n",
       "      <td>Austin, Texas Area</td>\n",
       "      <td>174</td>\n",
       "      <td>aspire human resources professional | energeti...</td>\n",
       "      <td>austin texas area</td>\n",
       "      <td>0.335222</td>\n",
       "      <td>0.743191</td>\n",
       "    </tr>\n",
       "    <tr>\n",
       "      <th>74</th>\n",
       "      <td>Human Resources Professional</td>\n",
       "      <td>Greater Boston Area</td>\n",
       "      <td>16</td>\n",
       "      <td>human resources professional</td>\n",
       "      <td>greater boston area</td>\n",
       "      <td>0.379428</td>\n",
       "      <td>0.718712</td>\n",
       "    </tr>\n",
       "    <tr>\n",
       "      <th>66</th>\n",
       "      <td>Experienced Retail Manager and aspiring Human ...</td>\n",
       "      <td>Austin, Texas Area</td>\n",
       "      <td>57</td>\n",
       "      <td>experience retail manager aspire human resourc...</td>\n",
       "      <td>austin texas area</td>\n",
       "      <td>0.408434</td>\n",
       "      <td>0.708162</td>\n",
       "    </tr>\n",
       "    <tr>\n",
       "      <th>73</th>\n",
       "      <td>Aspiring Human Resources Manager, seeking inte...</td>\n",
       "      <td>Houston, Texas Area</td>\n",
       "      <td>7</td>\n",
       "      <td>aspire human resources manager seek internship...</td>\n",
       "      <td>houston texas area</td>\n",
       "      <td>0.606442</td>\n",
       "      <td>0.707531</td>\n",
       "    </tr>\n",
       "    <tr>\n",
       "      <th>79</th>\n",
       "      <td>Liberal Arts Major. Aspiring Human Resources A...</td>\n",
       "      <td>Baton Rouge, Louisiana Area</td>\n",
       "      <td>7</td>\n",
       "      <td>liberal arts major aspire human resources analyst</td>\n",
       "      <td>baton rouge louisiana area</td>\n",
       "      <td>0.353795</td>\n",
       "      <td>0.695704</td>\n",
       "    </tr>\n",
       "    <tr>\n",
       "      <th>99</th>\n",
       "      <td>Seeking Human Resources Position</td>\n",
       "      <td>Las Vegas, Nevada Area</td>\n",
       "      <td>48</td>\n",
       "      <td>seek human resources position</td>\n",
       "      <td>las vegas nevada area</td>\n",
       "      <td>0.254405</td>\n",
       "      <td>0.661867</td>\n",
       "    </tr>\n",
       "  </tbody>\n",
       "</table>\n",
       "</div>"
      ],
      "text/plain": [
       "                                             job_title  \\\n",
       "id                                                       \n",
       "97               Aspiring Human Resources Professional   \n",
       "3                Aspiring Human Resources Professional   \n",
       "6                  Aspiring Human Resources Specialist   \n",
       "100  Aspiring Human Resources Manager | Graduating ...   \n",
       "82   Aspiring Human Resources Professional | An ene...   \n",
       "74                        Human Resources Professional   \n",
       "66   Experienced Retail Manager and aspiring Human ...   \n",
       "73   Aspiring Human Resources Manager, seeking inte...   \n",
       "79   Liberal Arts Major. Aspiring Human Resources A...   \n",
       "99                    Seeking Human Resources Position   \n",
       "\n",
       "                                location connection  \\\n",
       "id                                                    \n",
       "97                  Kokomo, Indiana Area         71   \n",
       "3    Raleigh-Durham, North Carolina Area         44   \n",
       "6             Greater New York City Area          1   \n",
       "100             Cape Girardeau, Missouri        103   \n",
       "82                    Austin, Texas Area        174   \n",
       "74                   Greater Boston Area         16   \n",
       "66                    Austin, Texas Area         57   \n",
       "73                   Houston, Texas Area          7   \n",
       "79           Baton Rouge, Louisiana Area          7   \n",
       "99                Las Vegas, Nevada Area         48   \n",
       "\n",
       "                                preprocessed_job_title  \\\n",
       "id                                                       \n",
       "97                 aspire human resources professional   \n",
       "3                  aspire human resources professional   \n",
       "6                    aspire human resources specialist   \n",
       "100  aspire human resources manager | graduating | ...   \n",
       "82   aspire human resources professional | energeti...   \n",
       "74                        human resources professional   \n",
       "66   experience retail manager aspire human resourc...   \n",
       "73   aspire human resources manager seek internship...   \n",
       "79   liberal arts major aspire human resources analyst   \n",
       "99                       seek human resources position   \n",
       "\n",
       "                  preprocessed_location  fit_tfidf  fit_bert  \n",
       "id                                                            \n",
       "97                  kokomo indiana area   0.769180  0.928787  \n",
       "3    raleigh durham north carolina area   0.769180  0.928787  \n",
       "6            greater new york city area   0.678790  0.916763  \n",
       "100             cape girardeau missouri   0.366335  0.750043  \n",
       "82                    austin texas area   0.335222  0.743191  \n",
       "74                  greater boston area   0.379428  0.718712  \n",
       "66                    austin texas area   0.408434  0.708162  \n",
       "73                   houston texas area   0.606442  0.707531  \n",
       "79           baton rouge louisiana area   0.353795  0.695704  \n",
       "99                las vegas nevada area   0.254405  0.661867  "
      ]
     },
     "execution_count": 92,
     "metadata": {},
     "output_type": "execute_result"
    }
   ],
   "source": [
    "#Explore the new column \n",
    "df1.head(10)"
   ]
  },
  {
   "cell_type": "markdown",
   "id": "906f8aaa",
   "metadata": {},
   "source": [
    "### Applying re-ranking with bert transformation"
   ]
  },
  {
   "cell_type": "code",
   "execution_count": null,
   "id": "68aa6429",
   "metadata": {},
   "outputs": [],
   "source": []
  }
 ],
 "metadata": {
  "kernelspec": {
   "display_name": "Python 3 (ipykernel)",
   "language": "python",
   "name": "python3"
  },
  "language_info": {
   "codemirror_mode": {
    "name": "ipython",
    "version": 3
   },
   "file_extension": ".py",
   "mimetype": "text/x-python",
   "name": "python",
   "nbconvert_exporter": "python",
   "pygments_lexer": "ipython3",
   "version": "3.9.7"
  }
 },
 "nbformat": 4,
 "nbformat_minor": 5
}
